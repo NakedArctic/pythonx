{
  "nbformat": 4,
  "nbformat_minor": 0,
  "metadata": {
    "colab": {
      "provenance": []
    },
    "kernelspec": {
      "name": "python3",
      "display_name": "Python 3"
    },
    "language_info": {
      "name": "python"
    }
  },
  "cells": [
    {
      "cell_type": "markdown",
      "source": [
        "1. What do you mean by python ?\n",
        "- Python is a programming language ."
      ],
      "metadata": {
        "id": "-heFQ8jRMYD5"
      }
    },
    {
      "cell_type": "code",
      "execution_count": null,
      "metadata": {
        "id": "3R5b9eKxMVXq"
      },
      "outputs": [],
      "source": []
    }
  ]
}